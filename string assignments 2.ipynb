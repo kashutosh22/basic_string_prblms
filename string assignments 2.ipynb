{
 "cells": [
  {
   "cell_type": "code",
   "execution_count": 1,
   "id": "e3d1aa12",
   "metadata": {},
   "outputs": [
    {
     "name": "stdout",
     "output_type": "stream",
     "text": [
      "Final result is =  {'p': 1, 'o': 1, 'm': 1, 'e': 2, 'g': 1, 'r': 1, 'a': 2, 'n': 1, 't': 1}\n"
     ]
    }
   ],
   "source": [
    "# 1. WAP to count occurance of all characters in given string.\n",
    "\n",
    "str = 'pomegranate'\n",
    "output = dict()\n",
    "for i in str:\n",
    "    count = str.count(i)\n",
    "    output[i] = count\n",
    "print('Final result is = ', output)"
   ]
  },
  {
   "cell_type": "code",
   "execution_count": null,
   "id": "40d3b014",
   "metadata": {},
   "outputs": [],
   "source": []
  },
  {
   "cell_type": "code",
   "execution_count": 2,
   "id": "4d504f1c",
   "metadata": {},
   "outputs": [
    {
     "name": "stdout",
     "output_type": "stream",
     "text": [
      "List after removing empty strings = ['Rahul', 'Shabana', 'Smith', 'Dinesh']\n"
     ]
    }
   ],
   "source": [
    "# 2. WAP to eliminate empty strings from given list of strings.\n",
    "\n",
    "string = [\"Rahul\", \"Shabana\", \"\", \"Smith\", \"\", \"Dinesh\", \"\"]\n",
    "output = []\n",
    "for i in string:\n",
    "    if i != \"\":\n",
    "        output.append(i)\n",
    "print('List after removing empty strings =',output)"
   ]
  },
  {
   "cell_type": "code",
   "execution_count": null,
   "id": "4f172812",
   "metadata": {},
   "outputs": [],
   "source": []
  },
  {
   "cell_type": "code",
   "execution_count": 3,
   "id": "7f2305ed",
   "metadata": {},
   "outputs": [
    {
     "name": "stdout",
     "output_type": "stream",
     "text": [
      "Rals\n"
     ]
    }
   ],
   "source": [
    "# 3. Write a Python program to get a string made of the first 2 and the last 2 chars from a given a string. If the string length is less than 2, return instead of the empty string.\n",
    "str = 'Rajsthan Royals'\n",
    "if len(str) < 2:\n",
    "    print('Empty String')\n",
    "elif len(str) == 2:\n",
    "    print(str[:] + str[:])\n",
    "else:\n",
    "    output = str[:2] + str[-2:]\n",
    "    print(output)"
   ]
  },
  {
   "cell_type": "code",
   "execution_count": null,
   "id": "0c37c8f8",
   "metadata": {},
   "outputs": [],
   "source": []
  },
  {
   "cell_type": "code",
   "execution_count": 4,
   "id": "fc8df33d",
   "metadata": {},
   "outputs": [
    {
     "name": "stdout",
     "output_type": "stream",
     "text": [
      "delhi #are#evills\n"
     ]
    }
   ],
   "source": [
    "# 4. Get a string from a given string where all occurrences of its first char have been changed to '#', except the first char itself\n",
    "str = 'delhi daredevills'\n",
    "first = str[0]\n",
    "str = str.replace(first, '#')\n",
    "str = first + str[1:]\n",
    "\n",
    "print(str)\n"
   ]
  },
  {
   "cell_type": "code",
   "execution_count": null,
   "id": "d1cdcc50",
   "metadata": {},
   "outputs": [],
   "source": []
  },
  {
   "cell_type": "code",
   "execution_count": 6,
   "id": "ea93339e",
   "metadata": {},
   "outputs": [
    {
     "name": "stdout",
     "output_type": "stream",
     "text": [
      "pqf der\n"
     ]
    }
   ],
   "source": [
    "# 5. WAP Get a single string from two given strings, separated by a space and swap the first two characters of each string. \n",
    "str1 = 'def'\n",
    "str2 = 'pqr'\n",
    "str3 = str2[:2] + str1[-1]\n",
    "str4 = str1[:2] + str2[-1]\n",
    "\n",
    "\n",
    "result = str3 + ' ' + str4\n",
    "print(result)\n"
   ]
  },
  {
   "cell_type": "code",
   "execution_count": null,
   "id": "b44cac82",
   "metadata": {},
   "outputs": [],
   "source": []
  },
  {
   "cell_type": "code",
   "execution_count": null,
   "id": "7f5a7dbd",
   "metadata": {},
   "outputs": [],
   "source": []
  }
 ],
 "metadata": {
  "kernelspec": {
   "display_name": "Python 3 (ipykernel)",
   "language": "python",
   "name": "python3"
  },
  "language_info": {
   "codemirror_mode": {
    "name": "ipython",
    "version": 3
   },
   "file_extension": ".py",
   "mimetype": "text/x-python",
   "name": "python",
   "nbconvert_exporter": "python",
   "pygments_lexer": "ipython3",
   "version": "3.9.7"
  }
 },
 "nbformat": 4,
 "nbformat_minor": 5
}
