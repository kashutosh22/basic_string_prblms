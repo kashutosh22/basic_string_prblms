{
 "cells": [
  {
   "cell_type": "code",
   "execution_count": 10,
   "id": "5856bbe9",
   "metadata": {},
   "outputs": [
    {
     "name": "stdout",
     "output_type": "stream",
     "text": [
      "Tae\n"
     ]
    }
   ],
   "source": [
    "# 1. WAP to print first, middle, last chara. of string.\n",
    "\n",
    "str1 = 'TobbyMaguire'\n",
    "a = int((len(str1)/2))\n",
    "str2 = str1[0]+str1[a]+str1[-1]\n",
    "print(str2)"
   ]
  },
  {
   "cell_type": "code",
   "execution_count": null,
   "id": "bf098637",
   "metadata": {},
   "outputs": [],
   "source": []
  },
  {
   "cell_type": "code",
   "execution_count": 9,
   "id": "99ab3b60",
   "metadata": {},
   "outputs": [
    {
     "name": "stdout",
     "output_type": "stream",
     "text": [
      "der\n"
     ]
    }
   ],
   "source": [
    "# 2. WAP to print middle 3 chara of string.\n",
    "\n",
    "str1 = 'Spiderman'\n",
    "mid = int((len(str1)/2))\n",
    "str2 = str1[mid - 1:mid + 2]\n",
    "print(str2)"
   ]
  },
  {
   "cell_type": "code",
   "execution_count": null,
   "id": "92ca541f",
   "metadata": {},
   "outputs": [],
   "source": []
  },
  {
   "cell_type": "code",
   "execution_count": 14,
   "id": "14809233",
   "metadata": {},
   "outputs": [
    {
     "name": "stdout",
     "output_type": "stream",
     "text": [
      "SacTendulakrhin\n"
     ]
    }
   ],
   "source": [
    "# 2. WAP to append new string in middle of given string\n",
    "\n",
    "s1 = 'Sachin'\n",
    "s2 = 'Tendulakr'\n",
    "mid = int(len(s1)/2)\n",
    "result = s1[0:mid] + s2 + s1[mid:]\n",
    "print(result)"
   ]
  },
  {
   "cell_type": "code",
   "execution_count": null,
   "id": "3c1ae6c0",
   "metadata": {},
   "outputs": [],
   "source": []
  },
  {
   "cell_type": "code",
   "execution_count": 23,
   "id": "76cdfd85",
   "metadata": {},
   "outputs": [
    {
     "name": "stdout",
     "output_type": "stream",
     "text": [
      "yhnPTO\n"
     ]
    }
   ],
   "source": [
    "# 3. WAP to sort a string so that char in lowercase comes first.\n",
    "\n",
    "s = 'PyThOn'\n",
    "lower = []\n",
    "upper = []\n",
    "for i in s:\n",
    "    if i.islower():\n",
    "        lower.append(i)\n",
    "    else:\n",
    "        upper.append(i)\n",
    "result = ''.join(lower + upper)\n",
    "print(result)"
   ]
  },
  {
   "cell_type": "code",
   "execution_count": null,
   "id": "a8888c85",
   "metadata": {},
   "outputs": [],
   "source": []
  },
  {
   "cell_type": "code",
   "execution_count": 25,
   "id": "9e6ab176",
   "metadata": {},
   "outputs": [
    {
     "name": "stdout",
     "output_type": "stream",
     "text": [
      "char =  5\n",
      "digit =  8\n",
      "symbol =  5\n"
     ]
    }
   ],
   "source": [
    "# 4. WAP to find how many alphabet, digit and symbol present in string.\n",
    "\n",
    "str = 'p@y56#t98%h4&0o8!4'\n",
    "char = []\n",
    "digit = []\n",
    "symbol = []\n",
    "for i in str:\n",
    "    if i.isalpha():\n",
    "        char.append(i)\n",
    "    elif i.isdigit():\n",
    "        digit.append(i)\n",
    "    else:\n",
    "        symbol.append(i)\n",
    "print('char = ', len(char))\n",
    "print('digit = ',len(digit))\n",
    "print('symbol = ',len(symbol))"
   ]
  },
  {
   "cell_type": "code",
   "execution_count": null,
   "id": "ed9164a1",
   "metadata": {},
   "outputs": [],
   "source": []
  },
  {
   "cell_type": "code",
   "execution_count": 33,
   "id": "31065c8d",
   "metadata": {},
   "outputs": [
    {
     "name": "stdout",
     "output_type": "stream",
     "text": [
      "nohtyp\n"
     ]
    }
   ],
   "source": [
    "# 5. WAP to reverse a given string using while loop\n",
    "\n",
    "str = 'python'\n",
    "out = ''\n",
    "i = int(len(str)-1)\n",
    "while i >= 0:\n",
    "    out = out + str[i]\n",
    "    i -= 1\n",
    "print(out)"
   ]
  },
  {
   "cell_type": "code",
   "execution_count": 36,
   "id": "57894ff9",
   "metadata": {},
   "outputs": [],
   "source": []
  },
  {
   "cell_type": "code",
   "execution_count": 50,
   "id": "4046d27f",
   "metadata": {},
   "outputs": [
    {
     "name": "stdout",
     "output_type": "stream",
     "text": [
      "Enter the char to be removed: y\n",
      "Pthon is eas\n"
     ]
    }
   ],
   "source": [
    "# 6. WAP to delete i'th char of string.\n",
    "\n",
    "str = 'Python is easy'\n",
    "char  =input(\"Enter the char to be removed: \")\n",
    "l = int(len(str))\n",
    "l2 = ''\n",
    "for i in range (l):\n",
    "    if (char != str[i]):\n",
    "        l2 = l2 + str[i]\n",
    "print(l2)"
   ]
  },
  {
   "cell_type": "code",
   "execution_count": null,
   "id": "60190044",
   "metadata": {},
   "outputs": [],
   "source": []
  },
  {
   "cell_type": "code",
   "execution_count": 62,
   "id": "b2d7ef62",
   "metadata": {},
   "outputs": [
    {
     "name": "stdout",
     "output_type": "stream",
     "text": [
      "Enter the char to be count in string = a\n",
      "The char is present 3 times in string\n"
     ]
    }
   ],
   "source": [
    "# 7. WAP to count a perticular character in string.\n",
    "\n",
    "str = 'python is easy interprited language'\n",
    "char = input('Enter the char to be count in string = ')\n",
    "l = int(len(str))\n",
    "count = 0\n",
    "for i in range (l):\n",
    "    if str[i] == char:\n",
    "        count = count + 1\n",
    "print('The char is present', count, 'times in string')\n",
    "        "
   ]
  }
 ],
 "metadata": {
  "kernelspec": {
   "display_name": "Python 3 (ipykernel)",
   "language": "python",
   "name": "python3"
  },
  "language_info": {
   "codemirror_mode": {
    "name": "ipython",
    "version": 3
   },
   "file_extension": ".py",
   "mimetype": "text/x-python",
   "name": "python",
   "nbconvert_exporter": "python",
   "pygments_lexer": "ipython3",
   "version": "3.9.7"
  }
 },
 "nbformat": 4,
 "nbformat_minor": 5
}
